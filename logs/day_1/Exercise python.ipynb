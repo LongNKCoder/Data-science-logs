{
 "cells": [
  {
   "cell_type": "markdown",
   "source": [
    "# Exercise calculate stock price\n",
    "If price today > yesterday 7% we will buy\n",
    "If price today < yesterday 6% we will sell"
   ],
   "metadata": {}
  },
  {
   "cell_type": "code",
   "execution_count": 2,
   "source": [
    "gia_theo_ngay = [10.1, 9.5, 10.7, 10.8, 10.6, 10.0, 10.2, 9.5]"
   ],
   "outputs": [],
   "metadata": {}
  },
  {
   "cell_type": "code",
   "execution_count": 3,
   "source": [
    "init_price = gia_theo_ngay[0]\r\n",
    "condition_sell = -0.06\r\n",
    "condition_buy = 0.07\r\n",
    "for price in gia_theo_ngay[1::]:\r\n",
    "    condition = (price-init_price) / init_price\r\n",
    "    print(f\"today percentage: {condition}, yesterday price: {init_price}, today price: {price}\")\r\n",
    "    if condition < condition_sell:\r\n",
    "        print(f\"sell stock because we can lose {condition}\")\r\n",
    "    elif condition > condition_buy:\r\n",
    "        print(f\"buy stock because we can gain {condition}\")\r\n",
    "    init_price = price"
   ],
   "outputs": [
    {
     "output_type": "stream",
     "name": "stdout",
     "text": [
      "today percentage: -0.059405940594059375, yesterday price: 10.1, today price: 9.5\n",
      "today percentage: 0.12631578947368413, yesterday price: 9.5, today price: 10.7\n",
      "buy stock because we can gain 0.12631578947368413\n",
      "today percentage: 0.009345794392523497, yesterday price: 10.7, today price: 10.8\n",
      "today percentage: -0.018518518518518615, yesterday price: 10.8, today price: 10.6\n",
      "today percentage: -0.05660377358490563, yesterday price: 10.6, today price: 10.0\n",
      "today percentage: 0.019999999999999928, yesterday price: 10.0, today price: 10.2\n",
      "today percentage: -0.0686274509803921, yesterday price: 10.2, today price: 9.5\n",
      "sell stock because we can lose -0.0686274509803921\n"
     ]
    }
   ],
   "metadata": {}
  },
  {
   "cell_type": "markdown",
   "source": [
    "# Salary calculator\n",
    "This is base on Vietnam's PIT\n",
    "Vietnamese ciitzen can have personal no tax 11.000.000 vnd\n",
    "Social insurance in Vietnam is 10,5%"
   ],
   "metadata": {}
  },
  {
   "cell_type": "code",
   "execution_count": 13,
   "source": [
    "your_salary = int(input(\"Your salary: \"))\r\n",
    "your_bonus = int(input(\"Your bonus: \"))"
   ],
   "outputs": [
    {
     "output_type": "stream",
     "name": "stdout",
     "text": [
      "Your salary: 21000000\n",
      "Your bonus: 2300000\n"
     ]
    }
   ],
   "metadata": {}
  },
  {
   "cell_type": "code",
   "execution_count": 14,
   "source": [
    "gross_income = your_salary + your_bonus\r\n",
    "print(f\"Your gross: {gross_income}\")\r\n",
    "personal_no_tax = 11000000\r\n",
    "social_insurance = 0.105\r\n",
    "salary_on_tax = gross_income - gross_income * social_insurance - personal_no_tax\r\n",
    "print(f\"Your salary on tax: {salary_on_tax}\")\r\n",
    "tax_range = {\r\n",
    "    \"level1\":range(0, 5000000),\r\n",
    "    \"level2\":range(5000000, 10000000),\r\n",
    "    \"level3\":range(10000000, 18000000),\r\n",
    "    \"level4\":range(18000000, 32000000),\r\n",
    "    \"level5\":range(32000000, 52000000),\r\n",
    "    \"level6\":range(52000000, 80000000),\r\n",
    "    \"level7\":80000000,\r\n",
    "}\r\n",
    "if salary_on_tax < 0:\r\n",
    "    tax_ratio = 0\r\n",
    "elif salary_on_tax in tax_range[\"level1\"]:\r\n",
    "    tax_ratio = 0.05\r\n",
    "elif salary_on_tax in tax_range[\"level2\"]:\r\n",
    "    tax_ratio = 0.1\r\n",
    "elif salary_on_tax in tax_range[\"level3\"]:\r\n",
    "    tax_ratio = 0.15\r\n",
    "elif salary_on_tax in tax_range[\"level4\"]:\r\n",
    "    tax_ratio = 0.2\r\n",
    "elif salary_on_tax in tax_range[\"level5\"]:\r\n",
    "    tax_ratio = 0.25\r\n",
    "elif salary_on_tax in tax_range[\"level6\"]:\r\n",
    "    tax_ratio = 0.3\r\n",
    "elif salary_on_tax > tax_range[\"level7\"]:\r\n",
    "    tax_ratio = 0.35\r\n",
    "PIT = salary_on_tax * tax_ratio\r\n",
    "print(f\"Your PIT must pay: {PIT}\")"
   ],
   "outputs": [
    {
     "output_type": "stream",
     "name": "stdout",
     "text": [
      "Your gross: 23300000\n",
      "Your salary on tax: 9853500.0\n",
      "Your PIT must pay: 985350.0\n"
     ]
    }
   ],
   "metadata": {}
  }
 ],
 "metadata": {
  "kernelspec": {
   "name": "python3",
   "display_name": "Python 3.8.8 64-bit ('base': conda)"
  },
  "language_info": {
   "codemirror_mode": {
    "name": "ipython",
    "version": 3
   },
   "file_extension": ".py",
   "mimetype": "text/x-python",
   "name": "python",
   "nbconvert_exporter": "python",
   "pygments_lexer": "ipython3",
   "version": "3.8.8"
  },
  "interpreter": {
   "hash": "8cb87309e45d53dc7720d5577c41909a3e71d5c0117bb085ccdab64a082373ac"
  }
 },
 "nbformat": 4,
 "nbformat_minor": 5
}